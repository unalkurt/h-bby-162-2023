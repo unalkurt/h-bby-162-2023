{
  "nbformat": 4,
  "nbformat_minor": 0,
  "metadata": {
    "colab": {
      "provenance": [],
      "authorship_tag": "ABX9TyNkJS41zeEhBYTL2nBhY9Oq",
      "include_colab_link": true
    },
    "kernelspec": {
      "name": "python3",
      "display_name": "Python 3"
    },
    "language_info": {
      "name": "python"
    }
  },
  "cells": [
    {
      "cell_type": "markdown",
      "metadata": {
        "id": "view-in-github",
        "colab_type": "text"
      },
      "source": [
        "<a href=\"https://colab.research.google.com/github/unalkurt/h-bby-162-2023/blob/main/proje01.ipynb\" target=\"_parent\"><img src=\"https://colab.research.google.com/assets/colab-badge.svg\" alt=\"Open In Colab\"/></a>"
      ]
    },
    {
      "cell_type": "code",
      "execution_count": 18,
      "metadata": {
        "colab": {
          "base_uri": "https://localhost:8080/"
        },
        "id": "rO_WeYj7D-ty",
        "outputId": "88b17974-0cf3-4268-9cca-a7b449b055d7"
      },
      "outputs": [
        {
          "output_type": "stream",
          "name": "stdout",
          "text": [
            "['Ne Kavgam Bitti Ne Sevdam', 'Güllerim Soldu', 'Değer Mi?', 'Her şeyi yak', 'Vazgeçtim']\n"
          ]
        }
      ],
      "source": [
        "#Derste yaptığımız \"yapılacak işler\" örneğine benzer bir çalışmayı proje olarak gerçekleştirip GitHub hesabınız altındaki 2023 deponuza kaydediniz.Demiştiniz \n",
        "#bu sebeple ben Sezen Aksu'nun \"Gülümse\"adlı albümündeki şarkılardan bir dinleme listesi yapmaya karar verdim.\n",
        "\n",
        "#Gülümse albümü dinleme listesi\n",
        "\n",
        "sezenAksu = [\"Ne Kavgam Bitti Ne Sevdam\", \"Güllerim Soldu\", \"Değer Mi?\",\"Her şeyi yak\", \"Vazgeçtim\"]\n",
        "print(sezenAksu)\n",
        "\n",
        "\n"
      ]
    },
    {
      "cell_type": "code",
      "source": [
        "#şimdi listemize albümden istediğimiz başka(yeni) şarkılar ekleyelim.\n",
        "sezenAksu += [\"Gülümse\", \"Hadi Bakalım\"]\n",
        "print(sezenAksu)"
      ],
      "metadata": {
        "colab": {
          "base_uri": "https://localhost:8080/"
        },
        "id": "uVSwzQD1LfOP",
        "outputId": "d62e35f5-bb61-4e81-ee6e-4e6a9da20606"
      },
      "execution_count": 13,
      "outputs": [
        {
          "output_type": "stream",
          "name": "stdout",
          "text": [
            "['Ne Kavgam Bitti Ne Sevdam', 'Güllerim Soldu', 'Değer Mi?', 'Her şeyi yak', 'Vazgeçtim', 'Gülümse', 'Hadi Bakalım']\n"
          ]
        }
      ]
    },
    {
      "cell_type": "code",
      "source": [
        "#input ile listemize şarkı eklenebilir hale getirelim.\n",
        "ekSarkıGirisi = input(\"Albümden dinleme listenize eklemek istediğiniz yeni şarkıyı giriniz: \")\n",
        "sezenAksu.append(ekSarkıGirisi)"
      ],
      "metadata": {
        "colab": {
          "base_uri": "https://localhost:8080/"
        },
        "id": "mwstS-pjLgjf",
        "outputId": "4fbe3f09-56e3-40a5-eb8c-e798ab8182df"
      },
      "execution_count": 16,
      "outputs": [
        {
          "name": "stdout",
          "output_type": "stream",
          "text": [
            "Albümden dinleme listenize eklemek istediğiniz yeni şarkıyı giriniz: Tutsak\n"
          ]
        }
      ]
    },
    {
      "cell_type": "code",
      "source": [
        "#güncelleme yapalım.\n",
        "print(sezenAksu)\n",
        "guncellenecek = int(input(\"Güncellemek istediğiniz şarkının sıra numarasını giriniz: \")) - 1\n",
        "guncelSarkı = input(\"Yeni değeri giriniz: \")\n",
        "sezenAksu[guncellenecek] = guncelSarkı\n",
        "print(sezenAksu)"
      ],
      "metadata": {
        "colab": {
          "base_uri": "https://localhost:8080/",
          "height": 397
        },
        "id": "qNjXS1x3ELhf",
        "outputId": "210e5f02-7dec-460c-8733-932815a48cc8"
      },
      "execution_count": 19,
      "outputs": [
        {
          "output_type": "stream",
          "name": "stdout",
          "text": [
            "['Ne Kavgam Bitti Ne Sevdam', 'Güllerim Soldu', 'Değer Mi?', 'Her şeyi yak', 'Vazgeçtim']\n"
          ]
        },
        {
          "output_type": "error",
          "ename": "KeyboardInterrupt",
          "evalue": "ignored",
          "traceback": [
            "\u001b[0;31m---------------------------------------------------------------------------\u001b[0m",
            "\u001b[0;31mKeyboardInterrupt\u001b[0m                         Traceback (most recent call last)",
            "\u001b[0;32m<ipython-input-19-8bb394cb6d85>\u001b[0m in \u001b[0;36m<cell line: 3>\u001b[0;34m()\u001b[0m\n\u001b[1;32m      1\u001b[0m \u001b[0;31m#güncelleme yapalım.\u001b[0m\u001b[0;34m\u001b[0m\u001b[0;34m\u001b[0m\u001b[0m\n\u001b[1;32m      2\u001b[0m \u001b[0mprint\u001b[0m\u001b[0;34m(\u001b[0m\u001b[0msezenAksu\u001b[0m\u001b[0;34m)\u001b[0m\u001b[0;34m\u001b[0m\u001b[0;34m\u001b[0m\u001b[0m\n\u001b[0;32m----> 3\u001b[0;31m \u001b[0mguncellenecek\u001b[0m \u001b[0;34m=\u001b[0m \u001b[0mint\u001b[0m\u001b[0;34m(\u001b[0m\u001b[0minput\u001b[0m\u001b[0;34m(\u001b[0m\u001b[0;34m\"Güncellemek istediğiniz şarkının sıra numarasını giriniz: \"\u001b[0m\u001b[0;34m)\u001b[0m\u001b[0;34m)\u001b[0m \u001b[0;34m-\u001b[0m \u001b[0;36m1\u001b[0m\u001b[0;34m\u001b[0m\u001b[0;34m\u001b[0m\u001b[0m\n\u001b[0m\u001b[1;32m      4\u001b[0m \u001b[0mguncelSarkı\u001b[0m \u001b[0;34m=\u001b[0m \u001b[0minput\u001b[0m\u001b[0;34m(\u001b[0m\u001b[0;34m\"Yeni değeri giriniz: \"\u001b[0m\u001b[0;34m)\u001b[0m\u001b[0;34m\u001b[0m\u001b[0;34m\u001b[0m\u001b[0m\n\u001b[1;32m      5\u001b[0m \u001b[0msezenAksu\u001b[0m\u001b[0;34m[\u001b[0m\u001b[0mguncellenecek\u001b[0m\u001b[0;34m]\u001b[0m \u001b[0;34m=\u001b[0m \u001b[0mguncelSarkı\u001b[0m\u001b[0;34m\u001b[0m\u001b[0;34m\u001b[0m\u001b[0m\n",
            "\u001b[0;32m/usr/local/lib/python3.9/dist-packages/ipykernel/kernelbase.py\u001b[0m in \u001b[0;36mraw_input\u001b[0;34m(self, prompt)\u001b[0m\n\u001b[1;32m    849\u001b[0m                 \u001b[0;34m\"raw_input was called, but this frontend does not support input requests.\"\u001b[0m\u001b[0;34m\u001b[0m\u001b[0;34m\u001b[0m\u001b[0m\n\u001b[1;32m    850\u001b[0m             )\n\u001b[0;32m--> 851\u001b[0;31m         return self._input_request(str(prompt),\n\u001b[0m\u001b[1;32m    852\u001b[0m             \u001b[0mself\u001b[0m\u001b[0;34m.\u001b[0m\u001b[0m_parent_ident\u001b[0m\u001b[0;34m,\u001b[0m\u001b[0;34m\u001b[0m\u001b[0;34m\u001b[0m\u001b[0m\n\u001b[1;32m    853\u001b[0m             \u001b[0mself\u001b[0m\u001b[0;34m.\u001b[0m\u001b[0m_parent_header\u001b[0m\u001b[0;34m,\u001b[0m\u001b[0;34m\u001b[0m\u001b[0;34m\u001b[0m\u001b[0m\n",
            "\u001b[0;32m/usr/local/lib/python3.9/dist-packages/ipykernel/kernelbase.py\u001b[0m in \u001b[0;36m_input_request\u001b[0;34m(self, prompt, ident, parent, password)\u001b[0m\n\u001b[1;32m    893\u001b[0m             \u001b[0;32mexcept\u001b[0m \u001b[0mKeyboardInterrupt\u001b[0m\u001b[0;34m:\u001b[0m\u001b[0;34m\u001b[0m\u001b[0;34m\u001b[0m\u001b[0m\n\u001b[1;32m    894\u001b[0m                 \u001b[0;31m# re-raise KeyboardInterrupt, to truncate traceback\u001b[0m\u001b[0;34m\u001b[0m\u001b[0;34m\u001b[0m\u001b[0m\n\u001b[0;32m--> 895\u001b[0;31m                 \u001b[0;32mraise\u001b[0m \u001b[0mKeyboardInterrupt\u001b[0m\u001b[0;34m(\u001b[0m\u001b[0;34m\"Interrupted by user\"\u001b[0m\u001b[0;34m)\u001b[0m \u001b[0;32mfrom\u001b[0m \u001b[0;32mNone\u001b[0m\u001b[0;34m\u001b[0m\u001b[0;34m\u001b[0m\u001b[0m\n\u001b[0m\u001b[1;32m    896\u001b[0m             \u001b[0;32mexcept\u001b[0m \u001b[0mException\u001b[0m \u001b[0;32mas\u001b[0m \u001b[0me\u001b[0m\u001b[0;34m:\u001b[0m\u001b[0;34m\u001b[0m\u001b[0;34m\u001b[0m\u001b[0m\n\u001b[1;32m    897\u001b[0m                 \u001b[0mself\u001b[0m\u001b[0;34m.\u001b[0m\u001b[0mlog\u001b[0m\u001b[0;34m.\u001b[0m\u001b[0mwarning\u001b[0m\u001b[0;34m(\u001b[0m\u001b[0;34m\"Invalid Message:\"\u001b[0m\u001b[0;34m,\u001b[0m \u001b[0mexc_info\u001b[0m\u001b[0;34m=\u001b[0m\u001b[0;32mTrue\u001b[0m\u001b[0;34m)\u001b[0m\u001b[0;34m\u001b[0m\u001b[0;34m\u001b[0m\u001b[0m\n",
            "\u001b[0;31mKeyboardInterrupt\u001b[0m: Interrupted by user"
          ]
        }
      ]
    },
    {
      "cell_type": "code",
      "source": [
        "#şimdi ise listemizden albümdeki dinlemek istemediğimiz şarkıları çıkaralım. \n",
        "\n",
        "sezenAksu[4:6] = []\n",
        "print(sezenAksu)"
      ],
      "metadata": {
        "colab": {
          "base_uri": "https://localhost:8080/"
        },
        "id": "miVPrbG_Lg27",
        "outputId": "69838766-076f-4ce9-ea4e-25310443e4f6"
      },
      "execution_count": 7,
      "outputs": [
        {
          "output_type": "stream",
          "name": "stdout",
          "text": [
            "['Ne Kavgam Bitti Ne Sevdam', 'Güllerim Soldu', 'Değer Mi?', 'Her şeyi yak', 'Hadi Bakalım', 'Tutsak']\n"
          ]
        }
      ]
    },
    {
      "cell_type": "code",
      "source": [
        "#son olarak diyelim ki tepemizin tası attı ve bütün albüm listemizi silmeye karar verdik.\n",
        "sezenAksu[:] = []\n",
        "print(sezenAksu)"
      ],
      "metadata": {
        "colab": {
          "base_uri": "https://localhost:8080/"
        },
        "id": "gbd-YchzLhPh",
        "outputId": "822fb65b-325c-400b-fa1f-949294865ee1"
      },
      "execution_count": 8,
      "outputs": [
        {
          "output_type": "stream",
          "name": "stdout",
          "text": [
            "[]\n"
          ]
        }
      ]
    },
    {
      "cell_type": "code",
      "source": [
        "#Dinlemek istemediğimiz şarkıların çıkarılmasının diğer yolu\n",
        "print(sezenAksu)\n",
        "silinecek = int(input(\"Silmek istediğiniz şarkının sıra numarasını giriniz: \")) - 1\n",
        "silinecek2 = silinecek + 1\n",
        "sezenAksu[silinecek:silinecek2] = []\n",
        "print(sezenAksu)"
      ],
      "metadata": {
        "colab": {
          "base_uri": "https://localhost:8080/"
        },
        "id": "oihcq6kjF7m3",
        "outputId": "a6632184-692c-4473-c31b-fa4e771f2431"
      },
      "execution_count": 20,
      "outputs": [
        {
          "output_type": "stream",
          "name": "stdout",
          "text": [
            "['Ne Kavgam Bitti Ne Sevdam', 'Güllerim Soldu', 'Değer Mi?', 'Her şeyi yak', 'Vazgeçtim']\n",
            "Silmek istediğiniz şarkının sıra numarasını giriniz: 1\n",
            "['Güllerim Soldu', 'Değer Mi?', 'Her şeyi yak', 'Vazgeçtim']\n"
          ]
        }
      ]
    }
  ]
}