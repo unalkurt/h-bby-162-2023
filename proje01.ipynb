{
  "nbformat": 4,
  "nbformat_minor": 0,
  "metadata": {
    "colab": {
      "provenance": [],
      "authorship_tag": "ABX9TyM2JcTEFUEigqeqEOL9tDLu",
      "include_colab_link": true
    },
    "kernelspec": {
      "name": "python3",
      "display_name": "Python 3"
    },
    "language_info": {
      "name": "python"
    }
  },
  "cells": [
    {
      "cell_type": "markdown",
      "metadata": {
        "id": "view-in-github",
        "colab_type": "text"
      },
      "source": [
        "<a href=\"https://colab.research.google.com/github/unalkurt/h-bby-162-2023/blob/main/proje01.ipynb\" target=\"_parent\"><img src=\"https://colab.research.google.com/assets/colab-badge.svg\" alt=\"Open In Colab\"/></a>"
      ]
    },
    {
      "cell_type": "code",
      "execution_count": 12,
      "metadata": {
        "colab": {
          "base_uri": "https://localhost:8080/"
        },
        "id": "rO_WeYj7D-ty",
        "outputId": "a887fd0a-dee4-4448-d92e-44b06d1c0804"
      },
      "outputs": [
        {
          "output_type": "stream",
          "name": "stdout",
          "text": [
            "['Ne Kavgam Bitti Ne Sevdam', 'Güllerim Soldu', 'Değer Mi?', 'Her şeyi yak', 'Vazgeçtim']\n"
          ]
        }
      ],
      "source": [
        "#Derste yaptığımız \"yapılacak işler\" örneğine benzer bir çalışmayı proje olarak gerçekleştirip GitHub hesabınız altındaki 2023 deponuza kaydediniz.Demiştiniz \n",
        "#bu sebeple ben Sezen Aksu'nun \"Gülümse\"adlı albümündeki şarkılardan bir dinleme listesi yapmaya karar verdim.\n",
        "\n",
        "#Gülümse albümü dinleme listesi\n",
        "\n",
        "sezenAksu = [\"Ne Kavgam Bitti Ne Sevdam\", \"Güllerim Soldu\", \"Değer Mi?\",\"Her şeyi yak\", \"Vazgeçtim\"]\n",
        "print(sezenAksu)\n",
        "\n",
        "\n"
      ]
    },
    {
      "cell_type": "code",
      "source": [
        "#şimdi listemize albümden istediğimiz başka(yeni) şarkılar ekleyelim.\n",
        "sezenAksu += [\"Gülümse\", \"Hadi Bakalım\"]\n",
        "print(sezenAksu)"
      ],
      "metadata": {
        "colab": {
          "base_uri": "https://localhost:8080/"
        },
        "id": "uVSwzQD1LfOP",
        "outputId": "d62e35f5-bb61-4e81-ee6e-4e6a9da20606"
      },
      "execution_count": 13,
      "outputs": [
        {
          "output_type": "stream",
          "name": "stdout",
          "text": [
            "['Ne Kavgam Bitti Ne Sevdam', 'Güllerim Soldu', 'Değer Mi?', 'Her şeyi yak', 'Vazgeçtim', 'Gülümse', 'Hadi Bakalım']\n"
          ]
        }
      ]
    },
    {
      "cell_type": "code",
      "source": [
        "#input ile listemize şarkı eklenebilir hale getirelim.\n",
        "ekSarkıGirisi = input(\"Albümden dinleme listenize eklemek istediğiniz yeni şarkıyı giriniz: \")\n",
        "sezenAksu.append(ekSarkıGirisi)"
      ],
      "metadata": {
        "colab": {
          "base_uri": "https://localhost:8080/"
        },
        "id": "mwstS-pjLgjf",
        "outputId": "4fbe3f09-56e3-40a5-eb8c-e798ab8182df"
      },
      "execution_count": 16,
      "outputs": [
        {
          "name": "stdout",
          "output_type": "stream",
          "text": [
            "Albümden dinleme listenize eklemek istediğiniz yeni şarkıyı giriniz: Tutsak\n"
          ]
        }
      ]
    },
    {
      "cell_type": "code",
      "source": [
        "#güncelleme yapalım.\n",
        "print(sezenAksu)\n",
        "guncellenecek = int(input(\"Güncellemek istediğiniz şarkının sıra numarasını giriniz: \")) - 1\n",
        "guncelSarkı = input(\"Yeni değeri giriniz: \")\n",
        "sezenAksu[guncellenecek] = guncelSarkı\n",
        "print(sezenAksu)"
      ],
      "metadata": {
        "colab": {
          "base_uri": "https://localhost:8080/"
        },
        "id": "qNjXS1x3ELhf",
        "outputId": "59386376-1d4e-4e0c-a155-2c7d57d71df3"
      },
      "execution_count": null,
      "outputs": [
        {
          "output_type": "stream",
          "name": "stdout",
          "text": [
            "['Ne Kavgam Bitti Ne Sevdam', 'Güllerim Soldu', 'Değer Mi?', 'Her şeyi yak', 'Tutsak', 'Gülümse', 'Hadi Bakalım', 'gülümse', 'Tutsak']\n"
          ]
        }
      ]
    },
    {
      "cell_type": "code",
      "source": [
        "#şimdi ise listemizden albümdeki dinlemek istemediğimiz şarkıları çıkaralım. \n",
        "\n",
        "sezenAksu[4:6] = []\n",
        "print(sezenAksu)"
      ],
      "metadata": {
        "colab": {
          "base_uri": "https://localhost:8080/"
        },
        "id": "miVPrbG_Lg27",
        "outputId": "69838766-076f-4ce9-ea4e-25310443e4f6"
      },
      "execution_count": 7,
      "outputs": [
        {
          "output_type": "stream",
          "name": "stdout",
          "text": [
            "['Ne Kavgam Bitti Ne Sevdam', 'Güllerim Soldu', 'Değer Mi?', 'Her şeyi yak', 'Hadi Bakalım', 'Tutsak']\n"
          ]
        }
      ]
    },
    {
      "cell_type": "code",
      "source": [
        "#son olarak diyelim ki tepemizin tası attı ve bütün albüm listemizi silmeye karar verdik.\n",
        "sezenAksu[:] = []\n",
        "print(sezenAksu)"
      ],
      "metadata": {
        "colab": {
          "base_uri": "https://localhost:8080/"
        },
        "id": "gbd-YchzLhPh",
        "outputId": "822fb65b-325c-400b-fa1f-949294865ee1"
      },
      "execution_count": 8,
      "outputs": [
        {
          "output_type": "stream",
          "name": "stdout",
          "text": [
            "[]\n"
          ]
        }
      ]
    }
  ]
}