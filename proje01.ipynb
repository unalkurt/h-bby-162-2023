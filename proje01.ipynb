{
  "nbformat": 4,
  "nbformat_minor": 0,
  "metadata": {
    "colab": {
      "provenance": [],
      "authorship_tag": "ABX9TyMqJSjMCO52AyAh5veDgjxk",
      "include_colab_link": true
    },
    "kernelspec": {
      "name": "python3",
      "display_name": "Python 3"
    },
    "language_info": {
      "name": "python"
    }
  },
  "cells": [
    {
      "cell_type": "markdown",
      "metadata": {
        "id": "view-in-github",
        "colab_type": "text"
      },
      "source": [
        "<a href=\"https://colab.research.google.com/github/unalkurt/h-bby-162-2023/blob/main/proje01.ipynb\" target=\"_parent\"><img src=\"https://colab.research.google.com/assets/colab-badge.svg\" alt=\"Open In Colab\"/></a>"
      ]
    },
    {
      "cell_type": "code",
      "execution_count": 10,
      "metadata": {
        "colab": {
          "base_uri": "https://localhost:8080/"
        },
        "id": "rO_WeYj7D-ty",
        "outputId": "ecdbe7cb-e217-47a8-fcd9-9e0344c09581"
      },
      "outputs": [
        {
          "output_type": "stream",
          "name": "stdout",
          "text": [
            "['Ne Kavgam Bitti Ne Sevdam', 'Güllerim Soldu', 'Değer Mi?', 'Her şeyi yak', 'Vazgeçtim']\n",
            "['Ne Kavgam Bitti Ne Sevdam', 'Güllerim Soldu', 'Değer Mi?', 'Her şeyi yak', 'Vazgeçtim', 'Gülümse', 'Hadi Bakalım']\n",
            "['Ne Kavgam Bitti Ne Sevdam', 'Güllerim Soldu', 'Değer Mi?', 'Her şeyi yak', 'Hadi Bakalım']\n",
            "[]\n"
          ]
        }
      ],
      "source": [
        "#Derste yaptığımız \"yapılacak işler\" örneğine benzer bir çalışmayı proje olarak gerçekleştirip GitHub hesabınız altındaki 2023 deponuza kaydediniz.Demiştiniz \n",
        "#bu sebeple ben Sezen Aksu'nun \"Gülümse\"adlı albümündeki şarkılardan bir dinleme listesi yapmaya karar verdim.\n",
        "\n",
        "#Gülümse albümü dinleme listesi\n",
        "\n",
        "sezenAksu = [\"Ne Kavgam Bitti Ne Sevdam\", \"Güllerim Soldu\", \"Değer Mi?\",\"Her şeyi yak\", \"Vazgeçtim\"]\n",
        "print(sezenAksu)\n",
        "\n",
        "\n",
        "#şimdi listemize albümden istediğimiz başka(yeni) şarkılar ekleyelim.\n",
        "sezenAksu += [\"Gülümse\", \"Hadi Bakalım\"]\n",
        "print(sezenAksu)\n",
        "\n",
        "\n",
        "#şimdi ise listemizden albümdeki dinlemek istemediğimiz şarkıları çıkaralım. \n",
        "\n",
        "sezenAksu[4:6] = []\n",
        "print(sezenAksu)\n",
        "\n",
        "\n",
        "#son olarak diyelim ki tepemizin tası attı ve bütün albüm listemizi silmeye karar verdik.\n",
        "sezenAksu[:] = []\n",
        "print(sezenAksu)"
      ]
    }
  ]
}