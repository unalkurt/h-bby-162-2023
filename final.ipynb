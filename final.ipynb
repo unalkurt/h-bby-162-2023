{
  "nbformat": 4,
  "nbformat_minor": 0,
  "metadata": {
    "colab": {
      "provenance": [],
      "authorship_tag": "ABX9TyPTM8TU1gQ6pESpHI836Ona",
      "include_colab_link": true
    },
    "kernelspec": {
      "name": "python3",
      "display_name": "Python 3"
    },
    "language_info": {
      "name": "python"
    }
  },
  "cells": [
    {
      "cell_type": "markdown",
      "metadata": {
        "id": "view-in-github",
        "colab_type": "text"
      },
      "source": [
        "<a href=\"https://colab.research.google.com/github/unalkurt/h-bby-162-2023/blob/main/final.ipynb\" target=\"_parent\"><img src=\"https://colab.research.google.com/assets/colab-badge.svg\" alt=\"Open In Colab\"/></a>"
      ]
    },
    {
      "cell_type": "markdown",
      "source": [
        "# **Kitap Kataloğum**"
      ],
      "metadata": {
        "id": "QW8CcFpQi01-"
      }
    },
    {
      "cell_type": "code",
      "source": [
        "# Kataloğumuzdaki kitapları listeleyelim.\n",
        "def listem():\n",
        "    with open(\"veri.txt\", \"r\") as f:\n",
        "        for eser in f:\n",
        "            print(eser)\n",
        "            \n",
        "\n",
        "\n",
        "# Kataloğumuza yeni kitap ekleyelim.\n",
        "def ekle():\n",
        "    adı = input(\"Kitap adını giriniz: \")\n",
        "    yazar = input(\"Yazar adını giriniz: \")\n",
        "    basımYılı = input(\"Basım yılını giriniz: \")\n",
        "    with open(\"veri.txt\", \"a\") as f:\n",
        "        f.write(f\"{adı}, {yazar}, {basımYılı}\\n\")\n",
        "        print(\"Kitap başarıyla kataloğa eklendi. \")\n",
        "\n",
        "\n",
        "\n",
        "# Kataloğumuzun içinden kitap silelim.\n",
        "def sil():\n",
        "    kitKat = input(\"Silinecek kitabın adını giriniz: \")\n",
        "    with open(\"veri.txt\", \"r\") as f:\n",
        "        lines = f.readlines()\n",
        "    with open(\"veri.txt\", \"w\") as f:\n",
        "        for line in lines:\n",
        "            if not line in line:\n",
        "                f.write(line)\n",
        "\n",
        "\n",
        "\n",
        "# Kataloğumuzun içindeki kitabımızı güncelleyelim.\n",
        "def güncelle():\n",
        "    kitKat = input(\"Güncellenecek kitabın adını giriniz: \")\n",
        "    yeniAdı = input(\"Yeni kitap adını giriniz: \")\n",
        "    yeniYazar = input(\"Yeni yazar adını giriniz: \")\n",
        "    yeniBasımYılı = input(\"Yeni basım yılını giriniz: \")\n",
        "    with open(\"veri.txt\", \"r\") as f:\n",
        "        eserler = f.readlines()\n",
        "    with open(\"veri.txt\", \"w\") as f:\n",
        "        for eser in eserler:\n",
        "            if kitKat in eser:\n",
        "                f.write(f\"{yeniAdı}, {yeniYazar}, {yeniBasımYılı}\\n\")\n",
        "\n",
        "\n",
        "\n",
        "# Kataloğumuzu tamamen temizleyelim.\n",
        "def temizle():\n",
        "    with open(\"veri.txt\", \"w\") as f:\n",
        "        f.write(\"\")\n",
        "        print(\"Katalog başarıyla temizlendi. \")\n",
        "\n",
        "\n",
        "\n",
        "# Kataloğumuzun içinden kitap aratalım.\n",
        "def arama():\n",
        "    aramaKelimesi = input(\"Arama yapılacak kelimeyi giriniz: \")\n",
        "    with open(\"veri.txt\", \"r\") as f:\n",
        "        for eser in f:\n",
        "            if aramaKelimesi in eser:\n",
        "                print(eser)        \n",
        "            \n",
        "\n",
        "#Menümüzü gösterelim.\n",
        "def menü():\n",
        "    while True:\n",
        "        print(\"1 - Eserleri listeleyelim\")\n",
        "        print(\"2 - Yeni eser ekleyelim\")\n",
        "        print(\"3 - Eser silelim\")\n",
        "        print(\"4 - Eser güncelleyelim\")\n",
        "        print(\"5 - Kataloğu temizleyelim\")\n",
        "        print(\"6 - Arama yapalım\")\n",
        "        print(\"0 - Çıkış yapalım\")\n",
        "        \n",
        "        seçim = input(\"Lütfen yapmak istediğiniz işlemi seçiniz: \")\n",
        "    \n",
        "        if seçim == \"1\":\n",
        "            listem()\n",
        "        elif seçim == \"2\":\n",
        "            ekle()\n",
        "        elif seçim == \"3\":\n",
        "            sil()\n",
        "        elif seçim == \"4\":\n",
        "            güncelle()\n",
        "        elif seçim == \"5\":\n",
        "            temizle()\n",
        "        elif seçim == \"6\":\n",
        "            arama()\n",
        "        elif seçim == \"0\":\n",
        "            kaydet()\n",
        "            break\n",
        "        else:\n",
        "            print(\"Geçersiz seçim. Lütfen tekrar deneyiniz. \")\n",
        "\n",
        "\n",
        "\n",
        "\n",
        "def kaydet():\n",
        "    print(\"Değişiklikleriniz kaydedildi. \")\n",
        "\n",
        "menü()"
      ],
      "metadata": {
        "colab": {
          "base_uri": "https://localhost:8080/"
        },
        "id": "50J_zPJgnkW3",
        "outputId": "ae5e7d1b-a596-4352-c1d5-a2ca5a0cea15"
      },
      "execution_count": null,
      "outputs": [
        {
          "output_type": "stream",
          "name": "stdout",
          "text": [
            "1 - Eserleri listeleyelim\n",
            "2 - Yeni eser ekleyelim\n",
            "3 - Eser silelim\n",
            "4 - Eser güncelleyelim\n",
            "5 - Kataloğu temizleyelim\n",
            "6 - Arama yapalım\n",
            "0 - Çıkış yapalım\n",
            "Lütfen yapmak istediğiniz işlemi seçiniz: 1\n",
            "Martin Eden, Jack London, 2021\n",
            "\n",
            "İnce Memed, Yaşar Kemal, 2020\n",
            "\n",
            "Dorian Gray'in Portresi, Oscar Wilde, 2018\n",
            "\n",
            "Gazap Üzümleri, John Steinbeck, 2017\n",
            "\n",
            "1 - Eserleri listeleyelim\n",
            "2 - Yeni eser ekleyelim\n",
            "3 - Eser silelim\n",
            "4 - Eser güncelleyelim\n",
            "5 - Kataloğu temizleyelim\n",
            "6 - Arama yapalım\n",
            "0 - Çıkış yapalım\n"
          ]
        }
      ]
    }
  ]
}