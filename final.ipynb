{
  "cells": [
    {
      "cell_type": "markdown",
      "metadata": {
        "id": "view-in-github",
        "colab_type": "text"
      },
      "source": [
        "<a href=\"https://colab.research.google.com/github/unalkurt/h-bby-162-2023/blob/main/final.ipynb\" target=\"_parent\"><img src=\"https://colab.research.google.com/assets/colab-badge.svg\" alt=\"Open In Colab\"/></a>"
      ]
    },
    {
      "cell_type": "markdown",
      "metadata": {
        "id": "I_1DhZWVfueE"
      },
      "source": []
    },
    {
      "cell_type": "markdown",
      "metadata": {
        "id": "XRLJxMjAfxWr"
      },
      "source": [
        "# **Kitap Kataloğum**"
      ]
    },
    {
      "cell_type": "code",
      "execution_count": null,
      "metadata": {
        "colab": {
          "base_uri": "https://localhost:8080/"
        },
        "id": "LGg6VPCFflSg",
        "outputId": "fb84a917-0c4a-4c0a-84af-b6f2b2af17cb"
      },
      "outputs": [
        {
          "name": "stdout",
          "output_type": "stream",
          "text": [
            "['Martin Eden', 'İnce Memed', \"Dorian Gray'in Portresi\", 'Gazap Üzümleri']\n"
          ]
        }
      ],
      "source": [
        "#kitap kataloğumu kitKat değişkeni üzerinden hazırladım.\n",
        "\n",
        "kitKat = [\"Martin Eden\", \"İnce Memed\", \"Dorian Gray'in Portresi\", \"Gazap Üzümleri\"]\n",
        "print(kitKat)"
      ]
    },
    {
      "cell_type": "code",
      "execution_count": null,
      "metadata": {
        "id": "3f_gu-vQHsnY"
      },
      "outputs": [],
      "source": [
        "#Kataloğumuzdaki kitapları listeleyelim.\n",
        "for eser in kitKat: \n",
        "  print(eser)"
      ]
    },
    {
      "cell_type": "code",
      "execution_count": null,
      "metadata": {
        "colab": {
          "base_uri": "https://localhost:8080/"
        },
        "id": "TfBf1G6nhLUo",
        "outputId": "a06eba99-7c88-4efa-a5f2-9282d75ab9ed"
      },
      "outputs": [
        {
          "name": "stdout",
          "output_type": "stream",
          "text": [
            "['Martin Eden', 'İnce Memed', \"Dorian Gray'in Portresi\", 'Gazap Üzümleri', 'Körlük', 'Simyacı']\n"
          ]
        }
      ],
      "source": [
        "#şimdi kataloğumuza yeni kitaplar ekleyelim.\n",
        "\n",
        "kitKat += [\"Körlük\", \"Simyacı\"]\n",
        "print(kitKat)"
      ]
    },
    {
      "cell_type": "code",
      "execution_count": null,
      "metadata": {
        "colab": {
          "base_uri": "https://localhost:8080/"
        },
        "id": "W6y84v-ph8uh",
        "outputId": "90842b4b-498a-4648-f850-5dec32f7a539"
      },
      "outputs": [
        {
          "name": "stdout",
          "output_type": "stream",
          "text": [
            "Yeni Kitap Giriniz: Eşekli Kütüphaneci\n"
          ]
        }
      ],
      "source": [
        "#input ile dermemize kitap eklenebilir hale getirelim.\n",
        "\n",
        "yenikitKat = input(\"Yeni Kitap Giriniz: \")\n",
        "kitKat.append(yenikitKat)"
      ]
    },
    {
      "cell_type": "code",
      "execution_count": null,
      "metadata": {
        "colab": {
          "base_uri": "https://localhost:8080/"
        },
        "id": "oTzR1hGmj4Oe",
        "outputId": "6926053c-cfb2-42a8-ef33-f8fa9dff1d73"
      },
      "outputs": [
        {
          "name": "stdout",
          "output_type": "stream",
          "text": [
            "['Martin Eden', 'İnce Memed', \"Dorian Gray'in Portresi\", 'Gazap Üzümleri']\n",
            "Güncellemek istediğiniz kitabın sıra numarasını giriniz: 4\n",
            "Yeni değeri giriniz: Son Ada\n",
            "['Martin Eden', 'İnce Memed', \"Dorian Gray'in Portresi\", 'Son Ada']\n"
          ]
        }
      ],
      "source": [
        "#güncelleme yapalım.\n",
        "\n",
        "kitKat = [\"Martin Eden\", \"İnce Memed\", \"Dorian Gray'in Portresi\", \"Gazap Üzümleri\"]\n",
        "print(kitKat)\n",
        "guncellenecek = int(input(\"Güncellemek istediğiniz kitabın sıra numarasını giriniz: \")) - 1\n",
        "guncelkitKat = input(\"Yeni değeri giriniz: \")\n",
        "kitKat[guncellenecek] = guncelkitKat\n",
        "print(kitKat)"
      ]
    },
    {
      "cell_type": "code",
      "execution_count": null,
      "metadata": {
        "colab": {
          "base_uri": "https://localhost:8080/"
        },
        "id": "lIX2D0EJppBS",
        "outputId": "61434cca-2439-445a-d69c-c6758bdf3f3d"
      },
      "outputs": [
        {
          "name": "stdout",
          "output_type": "stream",
          "text": [
            "['Martin Eden', 'Gazap Üzümleri']\n"
          ]
        }
      ],
      "source": [
        "#kataloğumuzdan basitçe kitap çıkaralım.\n",
        "kitKat = [\"Martin Eden\", \"İnce Memed\", \"Dorian Gray'in Portresi\", \"Gazap Üzümleri\"]\n",
        "\n",
        "kitKat[1:3] = []\n",
        "print(kitKat)"
      ]
    },
    {
      "cell_type": "code",
      "execution_count": null,
      "metadata": {
        "colab": {
          "base_uri": "https://localhost:8080/"
        },
        "id": "u3CfDreZlPWQ",
        "outputId": "4f41a60e-497e-4182-9cad-bec959aaa29b"
      },
      "outputs": [
        {
          "name": "stdout",
          "output_type": "stream",
          "text": [
            "['Martin Eden', 'İnce Memed', \"Dorian Gray'in Portresi\", 'Gazap Üzümleri']\n",
            "Çıkarmak istediğiniz kitabın sıra numarasını giriniz: 3\n",
            "Kitap çıkarma işlemini onaylıyorsanız enter tuşuna basınız. \n",
            "['Martin Eden', 'İnce Memed', '', 'Gazap Üzümleri']\n"
          ]
        }
      ],
      "source": [
        "#Kataloğumuzdan input ile kitap çıkaralım.\n",
        "\n",
        "kitKat = [\"Martin Eden\", \"İnce Memed\", \"Dorian Gray'in Portresi\", \"Gazap Üzümleri\"]\n",
        "print(kitKat)\n",
        "\n",
        "cıkarılacak = int(input(\"Çıkarmak istediğiniz kitabın sıra numarasını giriniz: \")) - 1 #kitKat[1:3] = []\n",
        "cıkarılacakkitKat = input(\"Kitap çıkarma işlemini onaylıyorsanız enter tuşuna basınız. \")\n",
        "kitKat[cıkarılacak] = cıkarılacakkitKat\n",
        "print(kitKat)"
      ]
    },
    {
      "cell_type": "code",
      "execution_count": null,
      "metadata": {
        "colab": {
          "base_uri": "https://localhost:8080/"
        },
        "id": "0acdAOxapD-y",
        "outputId": "61295736-4933-4339-a81a-2d7349fb69b2"
      },
      "outputs": [
        {
          "name": "stdout",
          "output_type": "stream",
          "text": [
            "[]\n"
          ]
        }
      ],
      "source": [
        "#Tüm kataloğu basitçe silelim.\n",
        "kitKat[:] = []\n",
        "print(kitKat)"
      ]
    },
    {
      "cell_type": "code",
      "execution_count": null,
      "metadata": {
        "colab": {
          "base_uri": "https://localhost:8080/"
        },
        "id": "wd53GokJqhEw",
        "outputId": "9b18c42a-477c-4c3c-f63b-879225c51120"
      },
      "outputs": [
        {
          "name": "stdout",
          "output_type": "stream",
          "text": [
            "['Martin Eden', 'İnce Memed', \"Dorian Gray'in Portresi\", 'Gazap Üzümleri']\n",
            "Tüm kataloğu silmek istiyorsanız EVET yazınız. EVET\n",
            "[]\n"
          ]
        }
      ],
      "source": [
        "#Tüm kataloğu input yardımıyla silelim.\n",
        "\n",
        "kitKat = [\"Martin Eden\", \"İnce Memed\", \"Dorian Gray'in Portresi\", \"Gazap Üzümleri\"]\n",
        "print(kitKat)\n",
        "\n",
        "silTümkitKat = input(\"Tüm kataloğu silmek istiyorsanız EVET yazınız. \")\n",
        "\n",
        "if silTümkitKat == \"EVET\":\n",
        "  kitKat[:] = []\n",
        "  print(kitKat)\n",
        "else:\n",
        "  print(\"Katalog silme işlemi iptal edildi. \")\n"
      ]
    },
    {
      "cell_type": "markdown",
      "metadata": {
        "id": "zh2dGdSx-C9I"
      },
      "source": [
        "# **KÜ Kataloğu**"
      ]
    },
    {
      "cell_type": "code",
      "execution_count": null,
      "metadata": {
        "colab": {
          "base_uri": "https://localhost:8080/"
        },
        "id": "iWvRtwzW-BoM",
        "outputId": "5c6d60bd-6079-4b2e-972f-6ba204be81cd"
      },
      "outputs": [
        {
          "name": "stdout",
          "output_type": "stream",
          "text": [
            "{'Martin Eden': 'Jack London 2021', 'İnce Memed': 'Yaşar Kemal 2020', \"Dorian Gray'in Portresi\": 'Oscar Wilde 2018', 'Gazap Üzümleri': 'John Steinbeck 2017'}\n",
            "Martin Eden\n",
            "İnce Memed\n",
            "Dorian Gray'in Portresi\n",
            "Gazap Üzümleri\n"
          ]
        }
      ],
      "source": [
        "KüKatalag = {\"Martin Eden\": \"Jack London 2021\", \"İnce Memed\": \"Yaşar Kemal 2020\", \"Dorian Gray'in Portresi\": \"Oscar Wilde 2018\", \"Gazap Üzümleri\": \"John Steinbeck 2017\"}\n",
        "print(KüKatalag)"
      ]
    },
    {
      "cell_type": "code",
      "execution_count": null,
      "metadata": {
        "colab": {
          "base_uri": "https://localhost:8080/"
        },
        "id": "kovcsrh5BcNS",
        "outputId": "7fb76c6c-8772-4bdb-be40-9fd29614655a"
      },
      "outputs": [
        {
          "name": "stdout",
          "output_type": "stream",
          "text": [
            "Martin Eden\n",
            "İnce Memed\n",
            "Dorian Gray'in Portresi\n",
            "Son Ada\n"
          ]
        }
      ],
      "source": [
        "#Kataloğumuzu listeleyelim\n",
        "for eser in KüKatalag: \n",
        " print(eser)"
      ]
    },
    {
      "cell_type": "code",
      "execution_count": null,
      "metadata": {
        "colab": {
          "base_uri": "https://localhost:8080/"
        },
        "id": "wyBhqKOFB516",
        "outputId": "931ac5ae-57ac-4c90-d2cd-5aa553247fac"
      },
      "outputs": [
        {
          "name": "stdout",
          "output_type": "stream",
          "text": [
            "{'Martin Eden': 'Jack London 2021', 'İnce Memed': 'Yaşar Kemal 2020', \"Dorian Gray'in Portresi\": 'Oscar Wilde 2018', 'Son Ada': 'Zülfü Livaneli 2022'}\n"
          ]
        }
      ],
      "source": [
        "#Kataloğumuza yeni eser ekleyelim\n",
        "KüKatalag[\"Son Ada\"] = \"Zülfü Livaneli 2022\"\n",
        "print(KüKatalag)\n"
      ]
    },
    {
      "cell_type": "code",
      "execution_count": null,
      "metadata": {
        "colab": {
          "base_uri": "https://localhost:8080/"
        },
        "id": "MuIi3GoZDiHe",
        "outputId": "e018619f-cd30-4585-d086-c8fcef3c864f"
      },
      "outputs": [
        {
          "name": "stdout",
          "output_type": "stream",
          "text": [
            "{'Martin Eden': 'Jack London 2021', 'İnce Memed': 'Yaşar Kemal 2020', \"Dorian Gray'in Portresi\": 'Oscar Wilde 2018', 'Son Ada': 'Zülfü Livaneli 2022'}\n"
          ]
        }
      ],
      "source": [
        "#Kataloğumuzdan eser silelim.\n",
        "del KüKatalag[\"Gazap Üzümleri\"]\n",
        "print(KüKatalag)"
      ]
    },
    {
      "cell_type": "code",
      "execution_count": null,
      "metadata": {
        "colab": {
          "background_save": true,
          "base_uri": "https://localhost:8080/"
        },
        "id": "MCV2Ck65D5wX",
        "outputId": "5195f371-4926-47aa-840c-dc88c840fad9"
      },
      "outputs": [
        {
          "name": "stdout",
          "output_type": "stream",
          "text": [
            "['Martin Eden', 'İnce Memed', \"Dorian Gray'in Portresi\", 'Gazap Üzümleri']\n"
          ]
        }
      ],
      "source": [
        "#Kataloğumuzda güncelleme yapalım.\n",
        "kitKat = [\"Martin Eden\", \"İnce Memed\", \"Dorian Gray'in Portresi\", \"Gazap Üzümleri\"]\n",
        "print(kitKat)\n",
        "guncellenecek = int(input(\"Güncellemek istediğiniz kitabın sıra numarasını giriniz: \")) - 1\n",
        "guncelkitKat = input(\"Yeni değeri giriniz: \")\n",
        "kitKat[guncellenecek] = guncelkitKat\n",
        "print(kitKat)"
      ]
    },
    {
      "cell_type": "markdown",
      "metadata": {
        "id": "p1CGJmucKpe6"
      },
      "source": []
    },
    {
      "cell_type": "code",
      "execution_count": null,
      "metadata": {
        "colab": {
          "base_uri": "https://localhost:8080/",
          "height": 130
        },
        "id": "sKUcilxGKmr-",
        "outputId": "faa56e9b-4003-453f-afaa-186826d50922"
      },
      "outputs": [
        {
          "ename": "SyntaxError",
          "evalue": "ignored",
          "output_type": "error",
          "traceback": [
            "\u001b[0;36m  File \u001b[0;32m\"<ipython-input-1-24ce0087b5c5>\"\u001b[0;36m, line \u001b[0;32m92\u001b[0m\n\u001b[0;31m    aramaKelimesi =\u001b[0m\n\u001b[0m                    ^\u001b[0m\n\u001b[0;31mSyntaxError\u001b[0m\u001b[0;31m:\u001b[0m invalid syntax\n"
          ]
        }
      ],
      "source": [
        "class kitap:\n",
        "    def __init__(self, kitapAdi, yazarAdi, basimYili):\n",
        "        self.kitapAdi = kitapAdi\n",
        "        self.yazarAdi = yazarAdi\n",
        "        self.basimYili = basimYili\n",
        "\n",
        "class KatalogUygulamasi:\n",
        "    def __init__(self):\n",
        "        self.kitaplar = []\n",
        "\n",
        "    def menuyuGoster(self):\n",
        "        print(\"Katalog Uygulaması\")\n",
        "        print(\"1) Kitapları Listele\")\n",
        "        print(\"2) Yeni Kitap Ekle\")\n",
        "        print(\"3) Kitap Sil\")\n",
        "        print(\"4) Kitap Güncelle\")\n",
        "        print(\"5) Katalogu Temizle\")\n",
        "        print(\"6) Kitap Ara\")\n",
        "        print(\"0) Çıkış\")\n",
        "\n",
        "    def kitaplarıListele(self):\n",
        "        if not self.kitaplar:\n",
        "            print(\"Katalog boş.\")\n",
        "        else:\n",
        "            print(\"Katalogdaki Kitaplar:\")\n",
        "            for kitap in self.kitaplar:\n",
        "                print(f\"Kitap Adı: {kitap.kitapAdi}, Yazar Adı: {kitap.yazarAdi}, Basım Yılı: {kitap.basimYili}\")\n",
        "\n",
        "    def kitapEkle(self):\n",
        "        kitapAdi = input(\"Kitap Adı: \")\n",
        "        yazarAdi = input(\"Yazar Adı: \")\n",
        "        basimYili = input(\"Basım Yılı: \")\n",
        "        yeniKitap = Kitap(kitapAdi, yazarAdi, basimYili)\n",
        "        self.kitaplar.append(yeniKitap)\n",
        "        print(\"Kitap kataloğa kaydedildi.\")\n",
        "\n",
        "    def kitapSil(self):\n",
        "        kitapAdi = input(\"Silinecek Kitabın Adı: \")\n",
        "        silinecekKitap = None\n",
        "        for kitap in self.kitaplar:\n",
        "            if kitap.kitapAdi == kitapAdi:\n",
        "                silinecekKitap = kitap\n",
        "                break\n",
        "\n",
        "        if silinecekKitap:\n",
        "            self.kitaplar.remove(silinecekKitap)\n",
        "            print(\"Kitap katalogdan silindi.\")\n",
        "        else:\n",
        "            print(\"Kitap bulunamadı.\")\n",
        "\n",
        "    def kitapGuncelle(self):\n",
        "        kitapAdi = input(\"Güncellenecek Kitabın Adı: \")\n",
        "        guncellenecekKitap = None\n",
        "        for kitap in self.kitaplar:\n",
        "            if kitap.kitapAdi == kitapAdi:\n",
        "                guncellenecekKitap = kitap\n",
        "                break\n",
        "\n",
        "        if guncellenecekKitap:\n",
        "            yeniKitapAdi = input(\"Yeni Kitap Adı: \")\n",
        "            yeniYazarAdi = input(\"Yeni Yazar Adı: \")\n",
        "            yeniBasimYili = input(\"Yeni Basım Yılı: \")\n",
        "            guncellenecekKitap.kitapAdi = yeniKitapAdi\n",
        "            guncellenecekKitap.yazarAdi = yeniYazarAdi\n",
        "            guncellenecekKitap.basimYili = yeniBasimYili\n",
        "            print(\"Kitap başarıyla güncellendi.\")\n",
        "        else:\n",
        "            print(\"Kitap bulunamadı.\")\n",
        "\n",
        "    \n",
        "\n",
        "   \n",
        "def katalogTemizle(self):\n",
        "        self.kitaplar.clear()\n",
        "        \n",
        "        self.kitaplar.clear()\n",
        "       \n",
        "\n",
        "        self.kitaplar.clear()\n",
        "\n",
        "        self\n",
        "\n",
        "       \n",
        "print(\"Katalog başarıyla temizlendi.\")\n",
        "\n",
        "    \n",
        "\n",
        "   \n",
        "\n",
        "\n",
        "def kitapAra(self):\n",
        "        aramaKelimesi = \n",
        "        aramaKelimesi\n",
        "\n",
        "        aramaKelimes\n",
        "\n",
        "        aramaKel\n",
        "\n",
        "        arama\n",
        "\n",
        "       \n",
        "input(\"Aranacak Kelime: \")\n",
        "        eslesmeSayisi = \n",
        "        eslesme\n",
        "\n",
        "       \n",
        "0\n",
        "        \n",
        "       \n",
        "for kitap in self.kitaplar:\n",
        "            \n",
        "           \n",
        "if aramaKelimesi.lower() in kitap.kitapAdi.lower() or aramaKelimesi.lower() in kitap.yazarAdi.lower():\n",
        "                \n",
        "               \n",
        "print(f\"Kitap Adı: {kitap.kitapAdi}, Yazar Adı: {kitap.yazarAdi}, Basım Yılı: {kitap.basimYili}\")\n",
        "                eslesmeSayisi += \n",
        "                es\n",
        "\n",
        "               \n",
        "1\n",
        "\n",
        "        \n",
        "\n",
        "       \n",
        "\n",
        "\n",
        "if eslesmeSayisi == 0:\n",
        "            \n",
        "           \n",
        "print(\"Eşleşen kitap bulunamadı.\")\n",
        "\n",
        "    \n",
        "\n",
        "   \n",
        "\n",
        "\n",
        "def uygulamayiBaslat(self):\n",
        "        \n",
        "       \n",
        "while True:\n",
        "            self.menuyuGoster()\n",
        "            secim = \n",
        "            self.menuyuGoster()\n",
        "            secim =\n",
        "\n",
        "            self.menuyuGoster()\n",
        "           \n",
        "\n",
        "            self.menuyuGoster()\n",
        "\n",
        "           \n",
        "input(\"Seçiminizi yapın (0-6): \")\n",
        "            if secim == \"0\":\n",
        "                break\n",
        "            \n",
        "           \n",
        "elif secim == \"1\":\n",
        "                self.kitaplarıListele()\n",
        "            \n",
        "                self.kitaplarıListele()\n",
        "           \n",
        "\n",
        "                self.kitaplarıListele()\n",
        "\n",
        "               \n",
        "elif secim == \"2\":\n",
        "                self.kitapEkle()\n",
        "            \n",
        "                self.kitapEkle()\n",
        "           \n",
        "\n",
        "                self.kitapEkle()\n",
        "\n",
        "               \n",
        "elif secim == \"3\":\n",
        "                self.kitapSil()\n",
        "            \n",
        "                self.kitapSil()\n",
        "           \n",
        "\n",
        "                self.kitapSil()\n",
        "\n",
        "               \n",
        "elif secim == \"4\":\n",
        "                self.kitapGuncelle()\n",
        "            \n",
        "                self.kitapGuncelle()\n",
        "           \n",
        "\n",
        "                self.kitapGuncelle()\n",
        "elif secim == \"5\":\n",
        "                self.katalogTemizle()\n",
        "            \n",
        "                self.katalogTemizle()\n",
        "           \n",
        "\n",
        "                self.katalogTemizle()\n",
        "\n",
        "               \n",
        "elif secim == \"6\":\n",
        "                self.kitapAra()\n",
        "            \n",
        "                self.kitapAra()\n",
        "           \n",
        "\n",
        "                self.kitap_\n",
        "\n",
        "                self.ki\n",
        "\n",
        "                self\n",
        "\n",
        "               \n",
        "else:\n",
        "                print(\"Geçersiz seçim. Lütfen tekrar deneyin.\")\n",
        "\n",
        "katalog = KatalogUygulamasi()\n",
        "katalog.uygulamayiBaslat()\n",
        "\n",
        "\n",
        "katalog = KatalogUygulamasi()\n",
        "katalog.uygulamayiBaslat\n",
        "\n",
        "\n",
        "katalog = KatalogUygulamasi()\n",
        "katalog.uygulamayiBas\n",
        "\n",
        "\n",
        "katalog = KatalogUygulamasi()\n",
        "katalog.uygulam\n",
        "\n",
        "\n",
        "katalog = KatalogUygulamasi()\n",
        "k\n",
        "\n",
        "\n",
        "katalog = KatalogUygulamasi()\n",
        "\n",
        "\n",
        "katalog = KatalogUygulamasi\n",
        "\n",
        "\n",
        "katalog =\n",
        "\n",
        "\n",
        "k\n"
      ]
    }
  ],
  "metadata": {
    "colab": {
      "provenance": [],
      "authorship_tag": "ABX9TyNV0KfbgMVi2nPswkN7HEZc",
      "include_colab_link": true
    },
    "kernelspec": {
      "display_name": "Python 3",
      "name": "python3"
    },
    "language_info": {
      "name": "python"
    }
  },
  "nbformat": 4,
  "nbformat_minor": 0
}